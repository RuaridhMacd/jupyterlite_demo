{
 "cells": [
  {
   "cell_type": "code",
   "execution_count": 26,
   "id": "69e241c2",
   "metadata": {
    "slideshow": {
     "slide_type": "skip"
    }
   },
   "outputs": [],
   "source": [
    "import numpy as np\n",
    "import scipy.stats as stats\n",
    "import matplotlib.pyplot as plt\n",
    "from ipywidgets import interactive\n",
    "# %matplotlib notebook\n",
    "%matplotlib inline"
   ]
  },
  {
   "cell_type": "markdown",
   "id": "db0b57ed",
   "metadata": {},
   "source": [
    "### Workstream 2 has a fuller version of this analysis, which I'm happy to share.\n",
    "\n",
    "### I've stuck to just including the widget here for simplicity and not included the derivation."
   ]
  },
  {
   "cell_type": "markdown",
   "id": "8e93dd51",
   "metadata": {},
   "source": [
    "### Method overview:\n",
    "\n",
    "1. Create a histogram of annual electricity price using an inverse Weibull distribution. This is controlled by minimum value, scale, and shape parameters. This distribution isn't representative of all markets or future price distributions.\n",
    "\n",
    "2. Calculate the annual revenue a 1MWe plant would receive as a function of the number of hours it operated per year, aka. it's annual utilization. This ignores hour-to-hour operational constraints.\n",
    "\n",
    "3. Given the nameplate vessel lifetime and vessel replacement duration, calculate the maximum possible annual utilization if we annuitize the vessel replacement process.\n",
    "\n",
    "4. For each valid annual utilization value, in increments of 1hr, calculate the number of vessels required over the plant lifetime (which is also a user input).\n",
    "\n",
    "5. For each valid annual utilization value, calculate the annuitized costs of operating a 1MWe plant. Note, we've not included regular variable costs which scale with utilization.\n",
    "\n",
    "6. Take the difference of the annual revenue and costs and plot in an ipywidget."
   ]
  },
  {
   "cell_type": "code",
   "execution_count": 27,
   "id": "88a99864",
   "metadata": {
    "slideshow": {
     "slide_type": "skip"
    }
   },
   "outputs": [],
   "source": [
    "def vessel_plot(\n",
    "    invw_shift, # [$/MWhe] minimum electricity price\n",
    "    invw_shape, # shape parameter of the inverse Weibull distribution \n",
    "    invw_scale, # scale parameter of the inverse Weibull distribution\n",
    "    plant_cost, # [$ / kWe] cost of the plant, except for the vacuum vessel\n",
    "    vessel_cost, # [$ / kWe] cost of the vacuum vessel\n",
    "    plant_lifetime, # [years] lifetime of the plant\n",
    "    vessel_lifetime, # [years] lifetime of the vacuum vessel\n",
    "    replacement_duration, # [years] time required to replace the vacuum vessel\n",
    "    discount_rate # [% / year] discount rate\n",
    "    ):\n",
    "\n",
    "    # Hard-coded parameters\n",
    "    T = 8760 # hours in a year\n",
    "\n",
    "    max_lmp = invw_shift + invw_scale * ( -np.log(0.99) )**(-1/invw_shape)\n",
    "    lmp = np.arange(0, max_lmp, 1)\n",
    "    lmp_pmf = stats.invweibull.pdf(lmp, c=invw_shape, loc=0,scale=invw_scale) * T\n",
    "    lmp += invw_shift\n",
    "    lmp_invcdf = stats.invweibull.ppf(np.arange(0, T, 1)/T, c=invw_shape, loc=0,scale=invw_scale) + invw_shift\n",
    "    rev_lmp_invcdf = np.flip(lmp_invcdf)\n",
    "\n",
    "    max_util = (-vessel_lifetime + (vessel_lifetime**2 + 4 * vessel_lifetime * replacement_duration)**0.5) / 2 / replacement_duration\n",
    "    time_hrs = np.arange(1, np.floor(8760 * max_util))\n",
    "    util = np.linspace(1/8760, max_util, len(time_hrs))\n",
    "    \n",
    "    num_vessel = plant_lifetime / (vessel_lifetime / util + replacement_duration)\n",
    "    costs = discount_rate / (1 - (1 + discount_rate)**-plant_lifetime) * (plant_cost + num_vessel * vessel_cost)\n",
    "    revenue_trunc = np.cumsum(rev_lmp_invcdf)[:int(np.max(time_hrs))]\n",
    "    profit = revenue_trunc - costs * 1000 # Costs were $/kWhe while revenue was $/MWh\n",
    "\n",
    "    fig, ax = plt.subplots(nrows=1, ncols=2, figsize=(16, 6))\n",
    "\n",
    "    ax[0].bar(lmp, lmp_pmf, width=1, color='xkcd:kelly green')\n",
    "    ax[0].set_xlim([0, max_lmp])\n",
    "    ax[0].set_ylabel(\"Hours per year\", fontsize=16)\n",
    "    ax[0].set_xlabel(\"LMP [$ / MWhe]\", fontsize=16)\n",
    "\n",
    "    ax[1].plot(time_hrs, profit, color='xkcd:dark blue')\n",
    "    ax[1].set_xlim([0, 8760])\n",
    "    ax[1].set_ylabel(\"Profit [$ / yr]\", fontsize=16)\n",
    "    ax[1].set_xlabel(\"Hours operated per year\", fontsize=16)\n",
    "\n",
    "    plt.tight_layout()\n",
    "    plt.show()\n",
    "\n",
    "interactive_plot = interactive(\n",
    "    vessel_plot, \n",
    "    invw_shift=(0, 40, 1.0),\n",
    "    invw_shape=(1.0, 3.0), \n",
    "    invw_scale=(10, 30.0),\n",
    "    plant_cost=(0.0, 6000.0, 250.0),\n",
    "    vessel_cost=(100.0, 1000.0, 100.0),\n",
    "    plant_lifetime=(5.0, 80.0, 5.0),\n",
    "    vessel_lifetime=(0.25, 6.0, 0.25),\n",
    "    replacement_duration=(0.05, 0.5, 0.05),\n",
    "    discount_rate=(0.01, 0.2, 0.01)\n",
    ")\n",
    "\n"
   ]
  },
  {
   "cell_type": "code",
   "execution_count": 28,
   "id": "02d03bb5",
   "metadata": {
    "slideshow": {
     "slide_type": "slide"
    },
    "tags": [
     "hide_input"
    ]
   },
   "outputs": [
    {
     "data": {
      "application/vnd.jupyter.widget-view+json": {
       "model_id": "9fc44df186d44b01a3be6bafc3fb9ded",
       "version_major": 2,
       "version_minor": 0
      },
      "text/plain": [
       "interactive(children=(FloatSlider(value=20.0, description='invw_shift', max=40.0, step=1.0), FloatSlider(value…"
      ]
     },
     "execution_count": 28,
     "metadata": {},
     "output_type": "execute_result"
    }
   ],
   "source": [
    "interactive_plot"
   ]
  }
 ],
 "metadata": {
  "celltoolbar": "Slideshow",
  "kernelspec": {
   "display_name": "Python 3.11.0 64-bit",
   "language": "python",
   "name": "python3"
  },
  "language_info": {
   "codemirror_mode": {
    "name": "ipython",
    "version": 3
   },
   "file_extension": ".py",
   "mimetype": "text/x-python",
   "name": "python",
   "nbconvert_exporter": "python",
   "pygments_lexer": "ipython3",
   "version": "3.11.0"
  },
  "vscode": {
   "interpreter": {
    "hash": "aee8b7b246df8f9039afb4144a1f6fd8d2ca17a180786b69acc140d282b71a49"
   }
  }
 },
 "nbformat": 4,
 "nbformat_minor": 5
}
